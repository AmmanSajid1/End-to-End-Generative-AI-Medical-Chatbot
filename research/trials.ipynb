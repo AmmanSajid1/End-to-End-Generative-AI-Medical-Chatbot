{
 "cells": [
  {
   "cell_type": "code",
   "execution_count": 3,
   "metadata": {},
   "outputs": [
    {
     "name": "stdout",
     "output_type": "stream",
     "text": [
      "Hello World\n"
     ]
    }
   ],
   "source": [
    "print(\"Hello World\")"
   ]
  },
  {
   "cell_type": "code",
   "execution_count": 4,
   "metadata": {},
   "outputs": [
    {
     "data": {
      "text/plain": [
       "'c:\\\\Users\\\\amman\\\\Documents\\\\Generative AI\\\\End-to-End-Generative-AI-Medical-Chatbot\\\\research'"
      ]
     },
     "execution_count": 4,
     "metadata": {},
     "output_type": "execute_result"
    }
   ],
   "source": [
    "%pwd"
   ]
  },
  {
   "cell_type": "code",
   "execution_count": 5,
   "metadata": {},
   "outputs": [
    {
     "data": {
      "text/plain": [
       "'c:\\\\Users\\\\amman\\\\Documents\\\\Generative AI\\\\End-to-End-Generative-AI-Medical-Chatbot'"
      ]
     },
     "execution_count": 5,
     "metadata": {},
     "output_type": "execute_result"
    }
   ],
   "source": [
    "import os \n",
    "os.chdir(\"../\")\n",
    "%pwd"
   ]
  },
  {
   "cell_type": "code",
   "execution_count": 6,
   "metadata": {},
   "outputs": [],
   "source": [
    "from langchain_community.document_loaders import DirectoryLoader, PyPDFLoader\n",
    "from langchain.text_splitter import RecursiveCharacterTextSplitter\n",
    "\n",
    "# Load PDF file data as documents\n",
    "def load_pdf_file(pdf_filepath):\n",
    "    loader = DirectoryLoader(path=pdf_filepath, glob=\"*.pdf\",\n",
    "                             loader_cls=PyPDFLoader)\n",
    "    \n",
    "    documents = loader.load()\n",
    "    return documents \n"
   ]
  },
  {
   "cell_type": "code",
   "execution_count": 7,
   "metadata": {},
   "outputs": [],
   "source": [
    "documents = load_pdf_file(\"Data/\")"
   ]
  },
  {
   "cell_type": "code",
   "execution_count": 8,
   "metadata": {},
   "outputs": [],
   "source": [
    "# Split the documents into chunks\n",
    "def create_doc_chunks(docs):\n",
    "    splitter = RecursiveCharacterTextSplitter(chunk_size=500, chunk_overlap=20)\n",
    "    doc_chunks = splitter.split_documents(docs)\n",
    "    return doc_chunks "
   ]
  },
  {
   "cell_type": "code",
   "execution_count": 9,
   "metadata": {},
   "outputs": [],
   "source": [
    "doc_chunks = create_doc_chunks(documents)"
   ]
  },
  {
   "cell_type": "code",
   "execution_count": 10,
   "metadata": {},
   "outputs": [
    {
     "data": {
      "text/plain": [
       "5860"
      ]
     },
     "execution_count": 10,
     "metadata": {},
     "output_type": "execute_result"
    }
   ],
   "source": [
    "len(doc_chunks)"
   ]
  },
  {
   "cell_type": "code",
   "execution_count": 7,
   "metadata": {},
   "outputs": [],
   "source": [
    "from langchain_community.embeddings import HuggingFaceEmbeddings\n",
    "def download_huggingface_embedding_model():\n",
    "    embed_model = HuggingFaceEmbeddings(model_name='sentence-transformers/all-MiniLM-L6-v2')\n",
    "    return embed_model"
   ]
  },
  {
   "cell_type": "code",
   "execution_count": 8,
   "metadata": {},
   "outputs": [
    {
     "name": "stderr",
     "output_type": "stream",
     "text": [
      "C:\\Users\\amman\\AppData\\Local\\Temp\\ipykernel_12928\\3018213434.py:3: LangChainDeprecationWarning: The class `HuggingFaceEmbeddings` was deprecated in LangChain 0.2.2 and will be removed in 1.0. An updated version of the class exists in the :class:`~langchain-huggingface package and should be used instead. To use it run `pip install -U :class:`~langchain-huggingface` and import as `from :class:`~langchain_huggingface import HuggingFaceEmbeddings``.\n",
      "  embed_model = HuggingFaceEmbeddings(model_name='sentence-transformers/all-MiniLM-L6-v2')\n"
     ]
    }
   ],
   "source": [
    "embed_model = download_huggingface_embedding_model()"
   ]
  },
  {
   "cell_type": "code",
   "execution_count": 9,
   "metadata": {},
   "outputs": [
    {
     "name": "stdout",
     "output_type": "stream",
     "text": [
      "Length of embedding vector:  384\n",
      "\n",
      "\n",
      "[-0.03447723761200905, 0.031023213639855385, 0.006734990980476141, 0.02610895223915577, -0.03936200216412544, -0.16030248999595642, 0.06692393124103546, -0.006441502831876278, -0.04745049029588699, 0.014758865348994732, 0.07087529450654984, 0.05552753433585167, 0.019193345680832863, -0.026251327246427536, -0.010109513066709042, -0.026940496638417244, 0.022307435050606728, -0.022226642817258835, -0.1496925801038742, -0.01749304123222828, 0.007676258217543364, 0.05435232073068619, 0.0032544711139053106, 0.031725890934467316, -0.0846213549375534, -0.029405983164906502, 0.05159558728337288, 0.04812406003475189, -0.0033148040529340506, -0.05827920883893967, 0.04196924716234207, 0.022210638970136642, 0.1281888484954834, -0.022338991984725, -0.011656233109533787, 0.06292837113142014, -0.03287629410624504, -0.09122603386640549, -0.031175388023257256, 0.052699580788612366, 0.0470348484814167, -0.08420310914516449, -0.030056176707148552, -0.020744847133755684, 0.009517889469861984, -0.00372184906154871, 0.0073433006182312965, 0.0393243134021759, 0.09327401965856552, -0.0037885885685682297, -0.05274209380149841, -0.05805818736553192, -0.006864405702799559, 0.005283272825181484, 0.082893006503582, 0.0193627942353487, 0.006284557748585939, -0.0103307468816638, 0.009032361209392548, -0.03768371418118477, -0.045206062495708466, 0.024016302078962326, -0.0069441357627511024, 0.013491638004779816, 0.10005494207143784, -0.07168391346931458, -0.021695079281926155, 0.031618472188711166, -0.051634665578603745, -0.08224768191576004, -0.06569333374500275, -0.009895358234643936, 0.005816414020955563, 0.07355459034442902, -0.03405032306909561, 0.024886099621653557, 0.014488086104393005, 0.026457402855157852, 0.009656715206801891, 0.030217245221138, 0.05280398577451706, -0.07535985857248306, 0.009897198528051376, 0.029836829751729965, 0.01755557395517826, 0.02309197373688221, 0.0019338536076247692, 0.0014002128737047315, -0.047175947576761246, -0.011194308288395405, -0.11420140415430069, -0.019811980426311493, 0.04026621952652931, 0.0021930187940597534, -0.07979223877191544, -0.02538231946527958, 0.09448294341564178, -0.028981104493141174, -0.1450025886297226, 0.23097741603851318, 0.027731159701943398, 0.03211148455739021, 0.03106498531997204, 0.04283284395933151, 0.06423775851726532, 0.03216317296028137, -0.004876730032265186, 0.05569944530725479, -0.03753240033984184, -0.021505508571863174, -0.02834264002740383, -0.02884693257510662, 0.03835306689143181, -0.01746867038309574, 0.052485302090644836, -0.07487607002258301, -0.03125975653529167, 0.021841539070010185, -0.0398956723511219, -0.008587092161178589, 0.026956632733345032, -0.04849546030163765, 0.011469852179288864, 0.029618216678500175, -0.020572137087583542, 0.013103872537612915, 0.02883348986506462, -3.194199819506188e-33, 0.06478215008974075, -0.01813017949461937, 0.05178995802998543, 0.12198273837566376, 0.028780125081539154, 0.008721998892724514, -0.07052116096019745, -0.01690729148685932, 0.04073970764875412, 0.0421162024140358, 0.02544722892343998, 0.035746265202760696, -0.049144770950078964, 0.00212904647924006, -0.015546578913927078, 0.05073059722781181, -0.0481853112578392, 0.03588059917092323, -0.004067071247845888, 0.10172471404075623, -0.05597006529569626, -0.010681072250008583, 0.011235734447836876, 0.09068656712770462, 0.004234452731907368, 0.03513864800333977, -0.00970282219350338, -0.09386514872312546, 0.09285550564527512, 0.00800491962581873, -0.007705389987677336, -0.05208674445748329, -0.012587987817823887, 0.00326691847294569, 0.0060135480016469955, 0.0075815594755113125, 0.010517118498682976, -0.08634554594755173, -0.06987877935171127, -0.002533899387344718, -0.09097657352685928, 0.046887367963790894, 0.05207649618387222, 0.007193806115537882, 0.010903654620051384, -0.005229526665061712, 0.013937312178313732, 0.021968312561511993, 0.03420859947800636, 0.060224711894989014, 0.00011667551734717563, 0.014731938019394875, -0.07008925825357437, 0.028499048203229904, -0.027601707726716995, 0.010768460109829903, 0.034830886870622635, -0.022487888112664223, 0.009769026190042496, 0.07722778618335724, 0.021588386967778206, 0.11495620757341385, -0.06800110638141632, 0.023761006072163582, -0.015983883291482925, -0.017826925963163376, 0.06439493596553802, 0.03202570974826813, 0.05027025192975998, -0.005913688801229, -0.03370802477002144, 0.017840296030044556, 0.016573332250118256, 0.06329655647277832, 0.03467720374464989, 0.04647347703576088, 0.0979061871767044, -0.0066355508752167225, 0.02520705573260784, -0.07798831164836884, 0.01692645438015461, -0.0009458299027755857, 0.022471902891993523, -0.03825319930911064, 0.09570474922657013, -0.0053508044220507145, 0.010469086468219757, -0.11524054408073425, -0.013262503780424595, -0.010709397494792938, -0.08311727643013, 0.07327356189489365, 0.049392219632864, -0.008994377218186855, -0.09584559500217438, 3.3661485617505796e-33, 0.12493182718753815, 0.019349727779626846, -0.05822574719786644, -0.035988226532936096, -0.05074676126241684, -0.04566236585378647, -0.08260335773229599, 0.14819476008415222, -0.08842116594314575, 0.06027444452047348, 0.05103016644716263, 0.010303179733455181, 0.14121417701244354, 0.030813850462436676, 0.06103307381272316, -0.052851270884275436, 0.13664889335632324, 0.009189936332404613, -0.017325198277831078, -0.012848656624555588, -0.007995289750397205, -0.05098006874322891, -0.05235067009925842, 0.007593010552227497, -0.015166271477937698, 0.01696034148335457, 0.021270528435707092, 0.020558040589094162, -0.12002812325954437, 0.014461839571595192, 0.0267599169164896, 0.02533068135380745, -0.04275461658835411, 0.006768501829355955, -0.01445856224745512, 0.04526197910308838, -0.09147652983665466, -0.01943911984562874, -0.017833467572927475, -0.054910145699977875, -0.0526411272585392, -0.01045907475054264, -0.052016064524650574, 0.02089197188615799, -0.0799703523516655, -0.012111294083297253, -0.057731445878744125, 0.023178216069936752, -0.008031681180000305, -0.02598932944238186, -0.07995671033859253, -0.020728863775730133, 0.04881769046187401, -0.020389188081026077, -0.04917659983038902, 0.014159644022583961, -0.06362206488847733, -0.0078073772601783276, 0.016431517899036407, -0.025682490319013596, 0.013381149619817734, 0.026248788461089134, 0.00997841451317072, 0.06322887539863586, 0.002672168891876936, -0.0065827216021716595, 0.016631949692964554, 0.03236648440361023, 0.03794248774647713, -0.03637610003352165, -0.006910913623869419, 0.0001596680813236162, -0.0016335482941940427, -0.027278199791908264, -0.028038088232278824, 0.049681488424539566, -0.028867237269878387, -0.00241808476857841, 0.014774847775697708, 0.009764591231942177, 0.005797601770609617, 0.013486167415976524, 0.005567912943661213, 0.03722710534930229, 0.007232502568513155, 0.04015621170401573, 0.08150329440832138, 0.0719916969537735, -0.013056186027824879, -0.042882028967142105, -0.011011210270226002, 0.004897821228951216, -0.009229732677340508, 0.03519150987267494, -0.051035065203905106, -1.571437557856825e-08, -0.08862440288066864, 0.023909345269203186, -0.0162387415766716, 0.0317005030810833, 0.02728423662483692, 0.05246885493397713, -0.047070953994989395, -0.05884746089577675, -0.0632082000374794, 0.040888577699661255, 0.049827925860881805, 0.10655166953802109, -0.0745023861527443, -0.012495428323745728, 0.01837068796157837, 0.03947412595152855, -0.02479792758822441, 0.014516264200210571, -0.0370691753923893, 0.020015768706798553, -4.856145824305713e-05, 0.009866581298410892, 0.02483876794576645, -0.052458155900239944, 0.029314203187823296, -0.08719190955162048, -0.01449974812567234, 0.0260190237313509, -0.018746310845017433, -0.07620514184236526, 0.03504331782460213, 0.10363944619894028, -0.028050504624843597, 0.012718185782432556, -0.07632549852132797, -0.018652383238077164, 0.024976715445518494, 0.08144532144069672, 0.06875886023044586, -0.0640566349029541, -0.08389384299516678, 0.06136239692568779, -0.03354553505778313, -0.10615336149930954, -0.040080536156892776, 0.03253019228577614, 0.07662486284971237, -0.0730162188410759, 0.00033756825723685324, -0.040871623903512955, -0.0757884755730629, 0.027527663856744766, 0.0746254250407219, 0.017717262730002403, 0.0912184789776802, 0.11022017151117325, 0.0005697783199138939, 0.05146336182951927, -0.014551319181919098, 0.033232059329748154, 0.023792307823896408, -0.02288985252380371, 0.03893749415874481, 0.03020681068301201]\n"
     ]
    }
   ],
   "source": [
    "query_result = embed_model.embed_query(\"Hello world\")\n",
    "print(\"Length of embedding vector: \", len(query_result))\n",
    "print('\\n')\n",
    "print(query_result)"
   ]
  },
  {
   "cell_type": "code",
   "execution_count": 1,
   "metadata": {},
   "outputs": [
    {
     "name": "stderr",
     "output_type": "stream",
     "text": [
      "c:\\Users\\amman\\anaconda3\\envs\\medbot\\lib\\site-packages\\tqdm\\auto.py:21: TqdmWarning: IProgress not found. Please update jupyter and ipywidgets. See https://ipywidgets.readthedocs.io/en/stable/user_install.html\n",
      "  from .autonotebook import tqdm as notebook_tqdm\n"
     ]
    },
    {
     "data": {
      "text/plain": [
       "{\n",
       "    \"name\": \"medicalbot\",\n",
       "    \"metric\": \"cosine\",\n",
       "    \"host\": \"medicalbot-ci9vpsy.svc.aped-4627-b74a.pinecone.io\",\n",
       "    \"spec\": {\n",
       "        \"serverless\": {\n",
       "            \"cloud\": \"aws\",\n",
       "            \"region\": \"us-east-1\"\n",
       "        }\n",
       "    },\n",
       "    \"status\": {\n",
       "        \"ready\": true,\n",
       "        \"state\": \"Ready\"\n",
       "    },\n",
       "    \"vector_type\": \"dense\",\n",
       "    \"dimension\": 384,\n",
       "    \"deletion_protection\": \"disabled\",\n",
       "    \"tags\": null\n",
       "}"
      ]
     },
     "execution_count": 1,
     "metadata": {},
     "output_type": "execute_result"
    }
   ],
   "source": [
    "from pinecone.grpc import PineconeGRPC as Pinecone\n",
    "from pinecone import ServerlessSpec\n",
    "from dotenv import load_dotenv\n",
    "import os \n",
    "\n",
    "load_dotenv()\n",
    "PINECONE_API_KEY = os.getenv(\"PINECONE_API_KEY\")\n",
    "OPENAI_API_KEY = os.getenv(\"OPENAI_API_KEY\")\n",
    "os.environ[\"PINECONE_API_KEY\"] = PINECONE_API_KEY\n",
    "os.environ[\"OPENAI_API_KEY\"] = OPENAI_API_KEY\n",
    "\n",
    "pc = Pinecone(api_key=PINECONE_API_KEY)\n",
    "index_name = \"medicalbot\"\n",
    "\n",
    "pc.create_index(\n",
    "    name=index_name,\n",
    "    dimension=384,\n",
    "    metric=\"cosine\",\n",
    "    spec=ServerlessSpec(\n",
    "        cloud=\"aws\",\n",
    "        region=\"us-east-1\"\n",
    "    )\n",
    ")\n",
    "\n"
   ]
  },
  {
   "cell_type": "code",
   "execution_count": 14,
   "metadata": {},
   "outputs": [],
   "source": [
    "# Embed each chunk and upsert the embeddings into the Pinecone index\n",
    "from langchain_pinecone import PineconeVectorStore\n",
    "\n",
    "docsearch = PineconeVectorStore.from_documents(\n",
    "    documents=doc_chunks,\n",
    "    index_name=index_name,\n",
    "    embedding=embed_model\n",
    ")"
   ]
  },
  {
   "cell_type": "code",
   "execution_count": 10,
   "metadata": {},
   "outputs": [],
   "source": [
    "from langchain_pinecone import PineconeVectorStore\n",
    "from dotenv import load_dotenv\n",
    "import os\n",
    "load_dotenv()\n",
    "PINECONE_API_KEY = os.getenv(\"PINECONE_API_KEY\")\n",
    "OPENAI_API_KEY = os.getenv(\"OPENAI_API_KEY\")\n",
    "os.environ[\"PINECONE_API_KEY\"] = PINECONE_API_KEY\n",
    "os.environ[\"OPENAI_API_KEY\"] = OPENAI_API_KEY\n",
    "index_name = \"medicalbot\"\n",
    "# Load index to perform retrieval\n",
    "docsearch = PineconeVectorStore.from_existing_index(\n",
    "    index_name=index_name,\n",
    "    embedding=embed_model\n",
    ")"
   ]
  },
  {
   "cell_type": "code",
   "execution_count": 11,
   "metadata": {},
   "outputs": [],
   "source": [
    "retriever = docsearch.as_retriever(search_type=\"similarity\", search_kwargs={\"k\":3})"
   ]
  },
  {
   "cell_type": "code",
   "execution_count": 12,
   "metadata": {},
   "outputs": [],
   "source": [
    "retrieved_docs = retriever.invoke(\"What is Acne?\")"
   ]
  },
  {
   "cell_type": "code",
   "execution_count": 13,
   "metadata": {},
   "outputs": [
    {
     "data": {
      "text/plain": [
       "[Document(id='cdfb7e39-bcbd-406a-80d1-8f51a7fff4a6', metadata={'creationdate': '2004-12-18T17:00:02-05:00', 'creator': 'PyPDF', 'moddate': '2004-12-18T16:15:31-06:00', 'page': 39.0, 'page_label': '40', 'producer': 'PDFlib+PDI 5.0.0 (SunOS)', 'source': 'Data\\\\Medical_book.pdf', 'total_pages': 637.0}, page_content='GALE ENCYCLOPEDIA OF MEDICINE 226\\nAcne\\nGEM - 0001 to 0432 - A  10/22/03 1:41 PM  Page 26'),\n",
       " Document(id='77f85ce1-1590-44cd-a9e8-f4405c77b096', metadata={'creationdate': '2004-12-18T17:00:02-05:00', 'creator': 'PyPDF', 'moddate': '2004-12-18T16:15:31-06:00', 'page': 38.0, 'page_label': '39', 'producer': 'PDFlib+PDI 5.0.0 (SunOS)', 'source': 'Data\\\\Medical_book.pdf', 'total_pages': 637.0}, page_content='GALE ENCYCLOPEDIA OF MEDICINE 2 25\\nAcne\\nAcne vulgaris affecting a woman’s face. Acne is the general\\nname given to a skin disorder in which the sebaceous\\nglands become inflamed.(Photograph by Biophoto Associ-\\nates, Photo Researchers, Inc. Reproduced by permission.)\\nGEM - 0001 to 0432 - A  10/22/03 1:41 PM  Page 25'),\n",
       " Document(id='f7a0ca65-a27d-4aa5-9924-7df608e29718', metadata={'creationdate': '2004-12-18T17:00:02-05:00', 'creator': 'PyPDF', 'moddate': '2004-12-18T16:15:31-06:00', 'page': 37.0, 'page_label': '38', 'producer': 'PDFlib+PDI 5.0.0 (SunOS)', 'source': 'Data\\\\Medical_book.pdf', 'total_pages': 637.0}, page_content='Acidosis see Respiratory acidosis; Renal\\ntubular acidosis; Metabolic acidosis\\nAcne\\nDefinition\\nAcne is a common skin disease characterized by\\npimples on the face, chest, and back. It occurs when the\\npores of the skin become clogged with oil, dead skin\\ncells, and bacteria.\\nDescription\\nAcne vulgaris, the medical term for common acne, is\\nthe most common skin disease. It affects nearly 17 million\\npeople in the United States. While acne can arise at any')]"
      ]
     },
     "execution_count": 13,
     "metadata": {},
     "output_type": "execute_result"
    }
   ],
   "source": [
    "retrieved_docs"
   ]
  },
  {
   "cell_type": "code",
   "execution_count": 14,
   "metadata": {},
   "outputs": [],
   "source": [
    "from langchain_openai import OpenAI\n",
    "llm = OpenAI(temperature=0.4, max_tokens=500)"
   ]
  },
  {
   "cell_type": "code",
   "execution_count": 15,
   "metadata": {},
   "outputs": [],
   "source": [
    "from langchain.chains import create_retrieval_chain\n",
    "from langchain.chains.combine_documents import create_stuff_documents_chain\n",
    "from langchain.prompts import ChatPromptTemplate"
   ]
  },
  {
   "cell_type": "code",
   "execution_count": 16,
   "metadata": {},
   "outputs": [],
   "source": [
    "system_prompt = (\n",
    "    \"You are an assistant for question-answering tasks. \"\n",
    "    \"Use the following pieces of retrieved context to answer \"\n",
    "    \"the question. Only answer based on the provided context, not from your own knowledge. If you don't know the answer just say that you don't know. \"\n",
    "    \"Use three sentences maximum and keep the answers concise.\"\n",
    "    \"\\n\\n\"\n",
    "    \"{context}\"\n",
    ")\n",
    "\n",
    "prompt = ChatPromptTemplate.from_messages(\n",
    "    [\n",
    "        (\"system\", system_prompt),\n",
    "        (\"human\", \"{input}\"),\n",
    "    ]\n",
    ")"
   ]
  },
  {
   "cell_type": "code",
   "execution_count": 17,
   "metadata": {},
   "outputs": [],
   "source": [
    "question_answer_chain = create_stuff_documents_chain(llm, prompt)\n",
    "rag_chain = create_retrieval_chain(retriever, question_answer_chain)"
   ]
  },
  {
   "cell_type": "code",
   "execution_count": 18,
   "metadata": {},
   "outputs": [
    {
     "name": "stdout",
     "output_type": "stream",
     "text": [
      "\n",
      "\n",
      "Acupressure is a form of touch therapy that uses the same points on the body as acupuncture, but instead of needles, finger pressure is used to stimulate these points. It is a non-invasive and cost-effective way to relieve symptoms and pain, increase energy and well-being, and stimulate the immune system. It can be performed by a layperson and is used to treat a variety of health conditions.\n"
     ]
    }
   ],
   "source": [
    "response = rag_chain.invoke({\"input\": \"What is Acupressure?\"})\n",
    "print(response[\"answer\"])"
   ]
  },
  {
   "cell_type": "code",
   "execution_count": null,
   "metadata": {},
   "outputs": [],
   "source": []
  }
 ],
 "metadata": {
  "kernelspec": {
   "display_name": "test",
   "language": "python",
   "name": "python3"
  },
  "language_info": {
   "codemirror_mode": {
    "name": "ipython",
    "version": 3
   },
   "file_extension": ".py",
   "mimetype": "text/x-python",
   "name": "python",
   "nbconvert_exporter": "python",
   "pygments_lexer": "ipython3",
   "version": "3.10.16"
  }
 },
 "nbformat": 4,
 "nbformat_minor": 2
}
